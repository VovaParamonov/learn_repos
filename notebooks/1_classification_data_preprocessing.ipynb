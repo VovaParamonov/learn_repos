{
 "cells": [
  {
   "cell_type": "code",
   "execution_count": 1,
   "outputs": [],
   "source": [
    "import pandas as pd\n",
    "\n",
    "workers_df = pd.read_csv('../data/classification/Absenteeism_at_work.csv', sep=';')"
   ],
   "metadata": {
    "collapsed": false,
    "pycharm": {
     "name": "#%%\n"
    }
   }
  },
  {
   "cell_type": "code",
   "execution_count": 3,
   "outputs": [
    {
     "data": {
      "text/plain": "     ID  Reason for absence  Month of absence  Day of the week  Seasons  \\\n0    11                  26                 7                3        1   \n1    36                   0                 7                3        1   \n2     3                  23                 7                4        1   \n3     7                   7                 7                5        1   \n4    11                  23                 7                5        1   \n..   ..                 ...               ...              ...      ...   \n735  11                  14                 7                3        1   \n736   1                  11                 7                3        1   \n737   4                   0                 0                3        1   \n738   8                   0                 0                4        2   \n739  35                   0                 0                6        3   \n\n     Transportation expense  Distance from Residence to Work  Service time  \\\n0                       289                               36            13   \n1                       118                               13            18   \n2                       179                               51            18   \n3                       279                                5            14   \n4                       289                               36            13   \n..                      ...                              ...           ...   \n735                     289                               36            13   \n736                     235                               11            14   \n737                     118                               14            13   \n738                     231                               35            14   \n739                     179                               45            14   \n\n     Age  Work load Average/day   ...  Disciplinary failure  Education  Son  \\\n0     33                 239.554  ...                     0          1    2   \n1     50                 239.554  ...                     1          1    1   \n2     38                 239.554  ...                     0          1    0   \n3     39                 239.554  ...                     0          1    2   \n4     33                 239.554  ...                     0          1    2   \n..   ...                     ...  ...                   ...        ...  ...   \n735   33                 264.604  ...                     0          1    2   \n736   37                 264.604  ...                     0          3    1   \n737   40                 271.219  ...                     0          1    1   \n738   39                 271.219  ...                     0          1    2   \n739   53                 271.219  ...                     0          1    1   \n\n     Social drinker  Social smoker  Pet  Weight  Height  Body mass index  \\\n0                 1              0    1      90     172               30   \n1                 1              0    0      98     178               31   \n2                 1              0    0      89     170               31   \n3                 1              1    0      68     168               24   \n4                 1              0    1      90     172               30   \n..              ...            ...  ...     ...     ...              ...   \n735               1              0    1      90     172               30   \n736               0              0    1      88     172               29   \n737               1              0    8      98     170               34   \n738               1              0    2     100     170               35   \n739               0              0    1      77     175               25   \n\n     Absenteeism time in hours  \n0                            4  \n1                            0  \n2                            2  \n3                            4  \n4                            2  \n..                         ...  \n735                          8  \n736                          4  \n737                          0  \n738                          0  \n739                          0  \n\n[740 rows x 21 columns]",
      "text/html": "<div>\n<style scoped>\n    .dataframe tbody tr th:only-of-type {\n        vertical-align: middle;\n    }\n\n    .dataframe tbody tr th {\n        vertical-align: top;\n    }\n\n    .dataframe thead th {\n        text-align: right;\n    }\n</style>\n<table border=\"1\" class=\"dataframe\">\n  <thead>\n    <tr style=\"text-align: right;\">\n      <th></th>\n      <th>ID</th>\n      <th>Reason for absence</th>\n      <th>Month of absence</th>\n      <th>Day of the week</th>\n      <th>Seasons</th>\n      <th>Transportation expense</th>\n      <th>Distance from Residence to Work</th>\n      <th>Service time</th>\n      <th>Age</th>\n      <th>Work load Average/day</th>\n      <th>...</th>\n      <th>Disciplinary failure</th>\n      <th>Education</th>\n      <th>Son</th>\n      <th>Social drinker</th>\n      <th>Social smoker</th>\n      <th>Pet</th>\n      <th>Weight</th>\n      <th>Height</th>\n      <th>Body mass index</th>\n      <th>Absenteeism time in hours</th>\n    </tr>\n  </thead>\n  <tbody>\n    <tr>\n      <th>0</th>\n      <td>11</td>\n      <td>26</td>\n      <td>7</td>\n      <td>3</td>\n      <td>1</td>\n      <td>289</td>\n      <td>36</td>\n      <td>13</td>\n      <td>33</td>\n      <td>239.554</td>\n      <td>...</td>\n      <td>0</td>\n      <td>1</td>\n      <td>2</td>\n      <td>1</td>\n      <td>0</td>\n      <td>1</td>\n      <td>90</td>\n      <td>172</td>\n      <td>30</td>\n      <td>4</td>\n    </tr>\n    <tr>\n      <th>1</th>\n      <td>36</td>\n      <td>0</td>\n      <td>7</td>\n      <td>3</td>\n      <td>1</td>\n      <td>118</td>\n      <td>13</td>\n      <td>18</td>\n      <td>50</td>\n      <td>239.554</td>\n      <td>...</td>\n      <td>1</td>\n      <td>1</td>\n      <td>1</td>\n      <td>1</td>\n      <td>0</td>\n      <td>0</td>\n      <td>98</td>\n      <td>178</td>\n      <td>31</td>\n      <td>0</td>\n    </tr>\n    <tr>\n      <th>2</th>\n      <td>3</td>\n      <td>23</td>\n      <td>7</td>\n      <td>4</td>\n      <td>1</td>\n      <td>179</td>\n      <td>51</td>\n      <td>18</td>\n      <td>38</td>\n      <td>239.554</td>\n      <td>...</td>\n      <td>0</td>\n      <td>1</td>\n      <td>0</td>\n      <td>1</td>\n      <td>0</td>\n      <td>0</td>\n      <td>89</td>\n      <td>170</td>\n      <td>31</td>\n      <td>2</td>\n    </tr>\n    <tr>\n      <th>3</th>\n      <td>7</td>\n      <td>7</td>\n      <td>7</td>\n      <td>5</td>\n      <td>1</td>\n      <td>279</td>\n      <td>5</td>\n      <td>14</td>\n      <td>39</td>\n      <td>239.554</td>\n      <td>...</td>\n      <td>0</td>\n      <td>1</td>\n      <td>2</td>\n      <td>1</td>\n      <td>1</td>\n      <td>0</td>\n      <td>68</td>\n      <td>168</td>\n      <td>24</td>\n      <td>4</td>\n    </tr>\n    <tr>\n      <th>4</th>\n      <td>11</td>\n      <td>23</td>\n      <td>7</td>\n      <td>5</td>\n      <td>1</td>\n      <td>289</td>\n      <td>36</td>\n      <td>13</td>\n      <td>33</td>\n      <td>239.554</td>\n      <td>...</td>\n      <td>0</td>\n      <td>1</td>\n      <td>2</td>\n      <td>1</td>\n      <td>0</td>\n      <td>1</td>\n      <td>90</td>\n      <td>172</td>\n      <td>30</td>\n      <td>2</td>\n    </tr>\n    <tr>\n      <th>...</th>\n      <td>...</td>\n      <td>...</td>\n      <td>...</td>\n      <td>...</td>\n      <td>...</td>\n      <td>...</td>\n      <td>...</td>\n      <td>...</td>\n      <td>...</td>\n      <td>...</td>\n      <td>...</td>\n      <td>...</td>\n      <td>...</td>\n      <td>...</td>\n      <td>...</td>\n      <td>...</td>\n      <td>...</td>\n      <td>...</td>\n      <td>...</td>\n      <td>...</td>\n      <td>...</td>\n    </tr>\n    <tr>\n      <th>735</th>\n      <td>11</td>\n      <td>14</td>\n      <td>7</td>\n      <td>3</td>\n      <td>1</td>\n      <td>289</td>\n      <td>36</td>\n      <td>13</td>\n      <td>33</td>\n      <td>264.604</td>\n      <td>...</td>\n      <td>0</td>\n      <td>1</td>\n      <td>2</td>\n      <td>1</td>\n      <td>0</td>\n      <td>1</td>\n      <td>90</td>\n      <td>172</td>\n      <td>30</td>\n      <td>8</td>\n    </tr>\n    <tr>\n      <th>736</th>\n      <td>1</td>\n      <td>11</td>\n      <td>7</td>\n      <td>3</td>\n      <td>1</td>\n      <td>235</td>\n      <td>11</td>\n      <td>14</td>\n      <td>37</td>\n      <td>264.604</td>\n      <td>...</td>\n      <td>0</td>\n      <td>3</td>\n      <td>1</td>\n      <td>0</td>\n      <td>0</td>\n      <td>1</td>\n      <td>88</td>\n      <td>172</td>\n      <td>29</td>\n      <td>4</td>\n    </tr>\n    <tr>\n      <th>737</th>\n      <td>4</td>\n      <td>0</td>\n      <td>0</td>\n      <td>3</td>\n      <td>1</td>\n      <td>118</td>\n      <td>14</td>\n      <td>13</td>\n      <td>40</td>\n      <td>271.219</td>\n      <td>...</td>\n      <td>0</td>\n      <td>1</td>\n      <td>1</td>\n      <td>1</td>\n      <td>0</td>\n      <td>8</td>\n      <td>98</td>\n      <td>170</td>\n      <td>34</td>\n      <td>0</td>\n    </tr>\n    <tr>\n      <th>738</th>\n      <td>8</td>\n      <td>0</td>\n      <td>0</td>\n      <td>4</td>\n      <td>2</td>\n      <td>231</td>\n      <td>35</td>\n      <td>14</td>\n      <td>39</td>\n      <td>271.219</td>\n      <td>...</td>\n      <td>0</td>\n      <td>1</td>\n      <td>2</td>\n      <td>1</td>\n      <td>0</td>\n      <td>2</td>\n      <td>100</td>\n      <td>170</td>\n      <td>35</td>\n      <td>0</td>\n    </tr>\n    <tr>\n      <th>739</th>\n      <td>35</td>\n      <td>0</td>\n      <td>0</td>\n      <td>6</td>\n      <td>3</td>\n      <td>179</td>\n      <td>45</td>\n      <td>14</td>\n      <td>53</td>\n      <td>271.219</td>\n      <td>...</td>\n      <td>0</td>\n      <td>1</td>\n      <td>1</td>\n      <td>0</td>\n      <td>0</td>\n      <td>1</td>\n      <td>77</td>\n      <td>175</td>\n      <td>25</td>\n      <td>0</td>\n    </tr>\n  </tbody>\n</table>\n<p>740 rows × 21 columns</p>\n</div>"
     },
     "execution_count": 3,
     "metadata": {},
     "output_type": "execute_result"
    }
   ],
   "source": [
    "workers_df"
   ],
   "metadata": {
    "collapsed": false,
    "pycharm": {
     "name": "#%%\n"
    }
   }
  },
  {
   "cell_type": "markdown",
   "source": [
    "### Проверка и заполнение пропусков средними значениями"
   ],
   "metadata": {
    "collapsed": false
   }
  },
  {
   "cell_type": "code",
   "execution_count": 4,
   "outputs": [
    {
     "name": "stdout",
     "output_type": "stream",
     "text": [
      "<class 'pandas.core.frame.DataFrame'>\n",
      "RangeIndex: 740 entries, 0 to 739\n",
      "Data columns (total 21 columns):\n",
      " #   Column                           Non-Null Count  Dtype  \n",
      "---  ------                           --------------  -----  \n",
      " 0   ID                               740 non-null    int64  \n",
      " 1   Reason for absence               740 non-null    int64  \n",
      " 2   Month of absence                 740 non-null    int64  \n",
      " 3   Day of the week                  740 non-null    int64  \n",
      " 4   Seasons                          740 non-null    int64  \n",
      " 5   Transportation expense           740 non-null    int64  \n",
      " 6   Distance from Residence to Work  740 non-null    int64  \n",
      " 7   Service time                     740 non-null    int64  \n",
      " 8   Age                              740 non-null    int64  \n",
      " 9   Work load Average/day            740 non-null    float64\n",
      " 10  Hit target                       740 non-null    int64  \n",
      " 11  Disciplinary failure             740 non-null    int64  \n",
      " 12  Education                        740 non-null    int64  \n",
      " 13  Son                              740 non-null    int64  \n",
      " 14  Social drinker                   740 non-null    int64  \n",
      " 15  Social smoker                    740 non-null    int64  \n",
      " 16  Pet                              740 non-null    int64  \n",
      " 17  Weight                           740 non-null    int64  \n",
      " 18  Height                           740 non-null    int64  \n",
      " 19  Body mass index                  740 non-null    int64  \n",
      " 20  Absenteeism time in hours        740 non-null    int64  \n",
      "dtypes: float64(1), int64(20)\n",
      "memory usage: 121.5 KB\n"
     ]
    }
   ],
   "source": [
    "workers_df.info()"
   ],
   "metadata": {
    "collapsed": false,
    "pycharm": {
     "name": "#%%\n"
    }
   }
  },
  {
   "cell_type": "code",
   "execution_count": 5,
   "outputs": [
    {
     "data": {
      "text/plain": "ID                                  18.017568\nReason for absence                  19.216216\nMonth of absence                     6.324324\nDay of the week                      3.914865\nSeasons                              2.544595\nTransportation expense             221.329730\nDistance from Residence to Work     29.631081\nService time                        12.554054\nAge                                 36.450000\nWork load Average/day              271.490235\nHit target                          94.587838\nDisciplinary failure                 0.054054\nEducation                            1.291892\nSon                                  1.018919\nSocial drinker                       0.567568\nSocial smoker                        0.072973\nPet                                  0.745946\nWeight                              79.035135\nHeight                             172.114865\nBody mass index                     26.677027\nAbsenteeism time in hours            6.924324\ndtype: float64"
     },
     "execution_count": 5,
     "metadata": {},
     "output_type": "execute_result"
    }
   ],
   "source": [
    "workers_df.mean()"
   ],
   "metadata": {
    "collapsed": false,
    "pycharm": {
     "name": "#%%\n"
    }
   }
  },
  {
   "cell_type": "code",
   "execution_count": 6,
   "outputs": [
    {
     "data": {
      "text/plain": "ID                                 0\nReason for absence                 0\nMonth of absence                   0\nDay of the week                    0\nSeasons                            0\nTransportation expense             0\nDistance from Residence to Work    0\nService time                       0\nAge                                0\nWork load Average/day              0\nHit target                         0\nDisciplinary failure               0\nEducation                          0\nSon                                0\nSocial drinker                     0\nSocial smoker                      0\nPet                                0\nWeight                             0\nHeight                             0\nBody mass index                    0\nAbsenteeism time in hours          0\ndtype: int64"
     },
     "execution_count": 6,
     "metadata": {},
     "output_type": "execute_result"
    }
   ],
   "source": [
    "workers_df.isnull().sum()"
   ],
   "metadata": {
    "collapsed": false,
    "pycharm": {
     "name": "#%%\n"
    }
   }
  },
  {
   "cell_type": "markdown",
   "source": [
    "Пустые значения отсутствуют"
   ],
   "metadata": {
    "collapsed": false,
    "pycharm": {
     "name": "#%% md\n"
    }
   }
  },
  {
   "cell_type": "code",
   "execution_count": null,
   "outputs": [],
   "source": [
    "# workers_df.fillna(workers_df.mean())"
   ],
   "metadata": {
    "collapsed": false,
    "pycharm": {
     "name": "#%%\n"
    }
   }
  },
  {
   "cell_type": "markdown",
   "source": [
    "### Кодирование данных\n",
    "В датасете уже закодированы все категориальные признаки, map описан в .._description.md\n",
    "Остальные признаки в кодировке не нуждаются"
   ],
   "metadata": {
    "collapsed": false
   }
  },
  {
   "cell_type": "markdown",
   "source": [
    "### Сохранение обработанного датасета"
   ],
   "metadata": {
    "collapsed": false
   }
  },
  {
   "cell_type": "code",
   "execution_count": null,
   "outputs": [],
   "source": [
    "path = '../data/classification/Absenteeism_at_work_processed.csv'\n",
    "\n",
    "workers_df.to_csv(path)\n"
   ],
   "metadata": {
    "collapsed": false,
    "pycharm": {
     "name": "#%%\n"
    }
   }
  }
 ],
 "metadata": {
  "kernelspec": {
   "display_name": "Python 3",
   "language": "python",
   "name": "python3"
  },
  "language_info": {
   "codemirror_mode": {
    "name": "ipython",
    "version": 2
   },
   "file_extension": ".py",
   "mimetype": "text/x-python",
   "name": "python",
   "nbconvert_exporter": "python",
   "pygments_lexer": "ipython2",
   "version": "2.7.6"
  }
 },
 "nbformat": 4,
 "nbformat_minor": 0
}