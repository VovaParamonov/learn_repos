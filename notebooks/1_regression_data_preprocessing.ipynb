{
 "cells": [
  {
   "cell_type": "code",
   "execution_count": 32,
   "outputs": [],
   "source": [
    "import pandas as pd\n",
    "\n",
    "energy_df = pd.read_csv('../data/regression/energydata_complete.csv', sep=',')"
   ],
   "metadata": {
    "collapsed": false,
    "pycharm": {
     "name": "#%%\n"
    }
   }
  },
  {
   "cell_type": "code",
   "execution_count": 33,
   "outputs": [
    {
     "data": {
      "text/plain": "                      date  Appliances  lights         T1       RH_1  \\\n0      2016-01-11 17:00:00          60      30  19.890000  47.596667   \n1      2016-01-11 17:10:00          60      30  19.890000  46.693333   \n2      2016-01-11 17:20:00          50      30  19.890000  46.300000   \n3      2016-01-11 17:30:00          50      40  19.890000  46.066667   \n4      2016-01-11 17:40:00          60      40  19.890000  46.333333   \n...                    ...         ...     ...        ...        ...   \n19730  2016-05-27 17:20:00         100       0  25.566667  46.560000   \n19731  2016-05-27 17:30:00          90       0  25.500000  46.500000   \n19732  2016-05-27 17:40:00         270      10  25.500000  46.596667   \n19733  2016-05-27 17:50:00         420      10  25.500000  46.990000   \n19734  2016-05-27 18:00:00         430      10  25.500000  46.600000   \n\n              T2       RH_2         T3       RH_3         T4  ...         T9  \\\n0      19.200000  44.790000  19.790000  44.730000  19.000000  ...  17.033333   \n1      19.200000  44.722500  19.790000  44.790000  19.000000  ...  17.066667   \n2      19.200000  44.626667  19.790000  44.933333  18.926667  ...  17.000000   \n3      19.200000  44.590000  19.790000  45.000000  18.890000  ...  17.000000   \n4      19.200000  44.530000  19.790000  45.000000  18.890000  ...  17.000000   \n...          ...        ...        ...        ...        ...  ...        ...   \n19730  25.890000  42.025714  27.200000  41.163333  24.700000  ...  23.200000   \n19731  25.754000  42.080000  27.133333  41.223333  24.700000  ...  23.200000   \n19732  25.628571  42.768571  27.050000  41.690000  24.700000  ...  23.200000   \n19733  25.414000  43.036000  26.890000  41.290000  24.700000  ...  23.200000   \n19734  25.264286  42.971429  26.823333  41.156667  24.700000  ...  23.200000   \n\n          RH_9      T_out  Press_mm_hg     RH_out  Windspeed  Visibility  \\\n0      45.5300   6.600000        733.5  92.000000   7.000000   63.000000   \n1      45.5600   6.483333        733.6  92.000000   6.666667   59.166667   \n2      45.5000   6.366667        733.7  92.000000   6.333333   55.333333   \n3      45.4000   6.250000        733.8  92.000000   6.000000   51.500000   \n4      45.4000   6.133333        733.9  92.000000   5.666667   47.666667   \n...        ...        ...          ...        ...        ...         ...   \n19730  46.7900  22.733333        755.2  55.666667   3.333333   23.666667   \n19731  46.7900  22.600000        755.2  56.000000   3.500000   24.500000   \n19732  46.7900  22.466667        755.2  56.333333   3.666667   25.333333   \n19733  46.8175  22.333333        755.2  56.666667   3.833333   26.166667   \n19734  46.8450  22.200000        755.2  57.000000   4.000000   27.000000   \n\n       Tdewpoint        rv1        rv2  \n0       5.300000  13.275433  13.275433  \n1       5.200000  18.606195  18.606195  \n2       5.100000  28.642668  28.642668  \n3       5.000000  45.410389  45.410389  \n4       4.900000  10.084097  10.084097  \n...          ...        ...        ...  \n19730  13.333333  43.096812  43.096812  \n19731  13.300000  49.282940  49.282940  \n19732  13.266667  29.199117  29.199117  \n19733  13.233333   6.322784   6.322784  \n19734  13.200000  34.118851  34.118851  \n\n[19735 rows x 29 columns]",
      "text/html": "<div>\n<style scoped>\n    .dataframe tbody tr th:only-of-type {\n        vertical-align: middle;\n    }\n\n    .dataframe tbody tr th {\n        vertical-align: top;\n    }\n\n    .dataframe thead th {\n        text-align: right;\n    }\n</style>\n<table border=\"1\" class=\"dataframe\">\n  <thead>\n    <tr style=\"text-align: right;\">\n      <th></th>\n      <th>date</th>\n      <th>Appliances</th>\n      <th>lights</th>\n      <th>T1</th>\n      <th>RH_1</th>\n      <th>T2</th>\n      <th>RH_2</th>\n      <th>T3</th>\n      <th>RH_3</th>\n      <th>T4</th>\n      <th>...</th>\n      <th>T9</th>\n      <th>RH_9</th>\n      <th>T_out</th>\n      <th>Press_mm_hg</th>\n      <th>RH_out</th>\n      <th>Windspeed</th>\n      <th>Visibility</th>\n      <th>Tdewpoint</th>\n      <th>rv1</th>\n      <th>rv2</th>\n    </tr>\n  </thead>\n  <tbody>\n    <tr>\n      <th>0</th>\n      <td>2016-01-11 17:00:00</td>\n      <td>60</td>\n      <td>30</td>\n      <td>19.890000</td>\n      <td>47.596667</td>\n      <td>19.200000</td>\n      <td>44.790000</td>\n      <td>19.790000</td>\n      <td>44.730000</td>\n      <td>19.000000</td>\n      <td>...</td>\n      <td>17.033333</td>\n      <td>45.5300</td>\n      <td>6.600000</td>\n      <td>733.5</td>\n      <td>92.000000</td>\n      <td>7.000000</td>\n      <td>63.000000</td>\n      <td>5.300000</td>\n      <td>13.275433</td>\n      <td>13.275433</td>\n    </tr>\n    <tr>\n      <th>1</th>\n      <td>2016-01-11 17:10:00</td>\n      <td>60</td>\n      <td>30</td>\n      <td>19.890000</td>\n      <td>46.693333</td>\n      <td>19.200000</td>\n      <td>44.722500</td>\n      <td>19.790000</td>\n      <td>44.790000</td>\n      <td>19.000000</td>\n      <td>...</td>\n      <td>17.066667</td>\n      <td>45.5600</td>\n      <td>6.483333</td>\n      <td>733.6</td>\n      <td>92.000000</td>\n      <td>6.666667</td>\n      <td>59.166667</td>\n      <td>5.200000</td>\n      <td>18.606195</td>\n      <td>18.606195</td>\n    </tr>\n    <tr>\n      <th>2</th>\n      <td>2016-01-11 17:20:00</td>\n      <td>50</td>\n      <td>30</td>\n      <td>19.890000</td>\n      <td>46.300000</td>\n      <td>19.200000</td>\n      <td>44.626667</td>\n      <td>19.790000</td>\n      <td>44.933333</td>\n      <td>18.926667</td>\n      <td>...</td>\n      <td>17.000000</td>\n      <td>45.5000</td>\n      <td>6.366667</td>\n      <td>733.7</td>\n      <td>92.000000</td>\n      <td>6.333333</td>\n      <td>55.333333</td>\n      <td>5.100000</td>\n      <td>28.642668</td>\n      <td>28.642668</td>\n    </tr>\n    <tr>\n      <th>3</th>\n      <td>2016-01-11 17:30:00</td>\n      <td>50</td>\n      <td>40</td>\n      <td>19.890000</td>\n      <td>46.066667</td>\n      <td>19.200000</td>\n      <td>44.590000</td>\n      <td>19.790000</td>\n      <td>45.000000</td>\n      <td>18.890000</td>\n      <td>...</td>\n      <td>17.000000</td>\n      <td>45.4000</td>\n      <td>6.250000</td>\n      <td>733.8</td>\n      <td>92.000000</td>\n      <td>6.000000</td>\n      <td>51.500000</td>\n      <td>5.000000</td>\n      <td>45.410389</td>\n      <td>45.410389</td>\n    </tr>\n    <tr>\n      <th>4</th>\n      <td>2016-01-11 17:40:00</td>\n      <td>60</td>\n      <td>40</td>\n      <td>19.890000</td>\n      <td>46.333333</td>\n      <td>19.200000</td>\n      <td>44.530000</td>\n      <td>19.790000</td>\n      <td>45.000000</td>\n      <td>18.890000</td>\n      <td>...</td>\n      <td>17.000000</td>\n      <td>45.4000</td>\n      <td>6.133333</td>\n      <td>733.9</td>\n      <td>92.000000</td>\n      <td>5.666667</td>\n      <td>47.666667</td>\n      <td>4.900000</td>\n      <td>10.084097</td>\n      <td>10.084097</td>\n    </tr>\n    <tr>\n      <th>...</th>\n      <td>...</td>\n      <td>...</td>\n      <td>...</td>\n      <td>...</td>\n      <td>...</td>\n      <td>...</td>\n      <td>...</td>\n      <td>...</td>\n      <td>...</td>\n      <td>...</td>\n      <td>...</td>\n      <td>...</td>\n      <td>...</td>\n      <td>...</td>\n      <td>...</td>\n      <td>...</td>\n      <td>...</td>\n      <td>...</td>\n      <td>...</td>\n      <td>...</td>\n      <td>...</td>\n    </tr>\n    <tr>\n      <th>19730</th>\n      <td>2016-05-27 17:20:00</td>\n      <td>100</td>\n      <td>0</td>\n      <td>25.566667</td>\n      <td>46.560000</td>\n      <td>25.890000</td>\n      <td>42.025714</td>\n      <td>27.200000</td>\n      <td>41.163333</td>\n      <td>24.700000</td>\n      <td>...</td>\n      <td>23.200000</td>\n      <td>46.7900</td>\n      <td>22.733333</td>\n      <td>755.2</td>\n      <td>55.666667</td>\n      <td>3.333333</td>\n      <td>23.666667</td>\n      <td>13.333333</td>\n      <td>43.096812</td>\n      <td>43.096812</td>\n    </tr>\n    <tr>\n      <th>19731</th>\n      <td>2016-05-27 17:30:00</td>\n      <td>90</td>\n      <td>0</td>\n      <td>25.500000</td>\n      <td>46.500000</td>\n      <td>25.754000</td>\n      <td>42.080000</td>\n      <td>27.133333</td>\n      <td>41.223333</td>\n      <td>24.700000</td>\n      <td>...</td>\n      <td>23.200000</td>\n      <td>46.7900</td>\n      <td>22.600000</td>\n      <td>755.2</td>\n      <td>56.000000</td>\n      <td>3.500000</td>\n      <td>24.500000</td>\n      <td>13.300000</td>\n      <td>49.282940</td>\n      <td>49.282940</td>\n    </tr>\n    <tr>\n      <th>19732</th>\n      <td>2016-05-27 17:40:00</td>\n      <td>270</td>\n      <td>10</td>\n      <td>25.500000</td>\n      <td>46.596667</td>\n      <td>25.628571</td>\n      <td>42.768571</td>\n      <td>27.050000</td>\n      <td>41.690000</td>\n      <td>24.700000</td>\n      <td>...</td>\n      <td>23.200000</td>\n      <td>46.7900</td>\n      <td>22.466667</td>\n      <td>755.2</td>\n      <td>56.333333</td>\n      <td>3.666667</td>\n      <td>25.333333</td>\n      <td>13.266667</td>\n      <td>29.199117</td>\n      <td>29.199117</td>\n    </tr>\n    <tr>\n      <th>19733</th>\n      <td>2016-05-27 17:50:00</td>\n      <td>420</td>\n      <td>10</td>\n      <td>25.500000</td>\n      <td>46.990000</td>\n      <td>25.414000</td>\n      <td>43.036000</td>\n      <td>26.890000</td>\n      <td>41.290000</td>\n      <td>24.700000</td>\n      <td>...</td>\n      <td>23.200000</td>\n      <td>46.8175</td>\n      <td>22.333333</td>\n      <td>755.2</td>\n      <td>56.666667</td>\n      <td>3.833333</td>\n      <td>26.166667</td>\n      <td>13.233333</td>\n      <td>6.322784</td>\n      <td>6.322784</td>\n    </tr>\n    <tr>\n      <th>19734</th>\n      <td>2016-05-27 18:00:00</td>\n      <td>430</td>\n      <td>10</td>\n      <td>25.500000</td>\n      <td>46.600000</td>\n      <td>25.264286</td>\n      <td>42.971429</td>\n      <td>26.823333</td>\n      <td>41.156667</td>\n      <td>24.700000</td>\n      <td>...</td>\n      <td>23.200000</td>\n      <td>46.8450</td>\n      <td>22.200000</td>\n      <td>755.2</td>\n      <td>57.000000</td>\n      <td>4.000000</td>\n      <td>27.000000</td>\n      <td>13.200000</td>\n      <td>34.118851</td>\n      <td>34.118851</td>\n    </tr>\n  </tbody>\n</table>\n<p>19735 rows × 29 columns</p>\n</div>"
     },
     "execution_count": 33,
     "metadata": {},
     "output_type": "execute_result"
    }
   ],
   "source": [
    "energy_df"
   ],
   "metadata": {
    "collapsed": false,
    "pycharm": {
     "name": "#%%\n"
    }
   }
  },
  {
   "cell_type": "markdown",
   "source": [
    "### Проверка и заполнение пропусков средними значениями"
   ],
   "metadata": {
    "collapsed": false
   }
  },
  {
   "cell_type": "code",
   "execution_count": 34,
   "outputs": [
    {
     "name": "stdout",
     "output_type": "stream",
     "text": [
      "<class 'pandas.core.frame.DataFrame'>\n",
      "RangeIndex: 19735 entries, 0 to 19734\n",
      "Data columns (total 29 columns):\n",
      " #   Column       Non-Null Count  Dtype  \n",
      "---  ------       --------------  -----  \n",
      " 0   date         19735 non-null  object \n",
      " 1   Appliances   19735 non-null  int64  \n",
      " 2   lights       19735 non-null  int64  \n",
      " 3   T1           19735 non-null  float64\n",
      " 4   RH_1         19735 non-null  float64\n",
      " 5   T2           19735 non-null  float64\n",
      " 6   RH_2         19735 non-null  float64\n",
      " 7   T3           19735 non-null  float64\n",
      " 8   RH_3         19735 non-null  float64\n",
      " 9   T4           19735 non-null  float64\n",
      " 10  RH_4         19735 non-null  float64\n",
      " 11  T5           19735 non-null  float64\n",
      " 12  RH_5         19735 non-null  float64\n",
      " 13  T6           19735 non-null  float64\n",
      " 14  RH_6         19735 non-null  float64\n",
      " 15  T7           19735 non-null  float64\n",
      " 16  RH_7         19735 non-null  float64\n",
      " 17  T8           19735 non-null  float64\n",
      " 18  RH_8         19735 non-null  float64\n",
      " 19  T9           19735 non-null  float64\n",
      " 20  RH_9         19735 non-null  float64\n",
      " 21  T_out        19735 non-null  float64\n",
      " 22  Press_mm_hg  19735 non-null  float64\n",
      " 23  RH_out       19735 non-null  float64\n",
      " 24  Windspeed    19735 non-null  float64\n",
      " 25  Visibility   19735 non-null  float64\n",
      " 26  Tdewpoint    19735 non-null  float64\n",
      " 27  rv1          19735 non-null  float64\n",
      " 28  rv2          19735 non-null  float64\n",
      "dtypes: float64(26), int64(2), object(1)\n",
      "memory usage: 4.4+ MB\n"
     ]
    }
   ],
   "source": [
    "energy_df.info()"
   ],
   "metadata": {
    "collapsed": false,
    "pycharm": {
     "name": "#%%\n"
    }
   }
  },
  {
   "cell_type": "code",
   "execution_count": 35,
   "outputs": [
    {
     "data": {
      "text/plain": "Appliances      97.694958\nlights           3.801875\nT1              21.686571\nRH_1            40.259739\nT2              20.341219\nRH_2            40.420420\nT3              22.267611\nRH_3            39.242500\nT4              20.855335\nRH_4            39.026904\nT5              19.592106\nRH_5            50.949283\nT6               7.910939\nRH_6            54.609083\nT7              20.267106\nRH_7            35.388200\nT8              22.029107\nRH_8            42.936165\nT9              19.485828\nRH_9            41.552401\nT_out            7.411665\nPress_mm_hg    755.522602\nRH_out          79.750418\nWindspeed        4.039752\nVisibility      38.330834\nTdewpoint        3.760707\nrv1             24.988033\nrv2             24.988033\ndtype: float64"
     },
     "execution_count": 35,
     "metadata": {},
     "output_type": "execute_result"
    }
   ],
   "source": [
    "energy_df.mean()"
   ],
   "metadata": {
    "collapsed": false,
    "pycharm": {
     "name": "#%%\n"
    }
   }
  },
  {
   "cell_type": "markdown",
   "source": [
    "Пропущенных значений нет"
   ],
   "metadata": {
    "collapsed": false,
    "pycharm": {
     "name": "#%% md\n"
    }
   }
  },
  {
   "cell_type": "markdown",
   "source": [
    "### Кодирование данных\n",
    "В датасете уже закодированы все категориальные признаки, map описан в .._description.md\n",
    "\n",
    "Сделаем столбец date типа datetime"
   ],
   "metadata": {
    "collapsed": false,
    "pycharm": {
     "name": "#%% md\n"
    }
   }
  },
  {
   "cell_type": "code",
   "execution_count": 36,
   "outputs": [],
   "source": [
    "energy_df['date'] = energy_df['date'].astype('datetime64[ns]')"
   ],
   "metadata": {
    "collapsed": false,
    "pycharm": {
     "name": "#%%\n"
    }
   }
  },
  {
   "cell_type": "markdown",
   "source": [
    "### Сохранение обработанного датасета"
   ],
   "metadata": {
    "collapsed": false,
    "pycharm": {
     "name": "#%% md\n"
    }
   }
  },
  {
   "cell_type": "code",
   "execution_count": 37,
   "outputs": [],
   "source": [
    "path = '../data/regression/energy_complete_processed.csv'\n",
    "energy_df.to_csv(path)\n"
   ],
   "metadata": {
    "collapsed": false,
    "pycharm": {
     "name": "#%%\n"
    }
   }
  }
 ],
 "metadata": {
  "kernelspec": {
   "display_name": "Python 3",
   "language": "python",
   "name": "python3"
  },
  "language_info": {
   "codemirror_mode": {
    "name": "ipython",
    "version": 2
   },
   "file_extension": ".py",
   "mimetype": "text/x-python",
   "name": "python",
   "nbconvert_exporter": "python",
   "pygments_lexer": "ipython2",
   "version": "2.7.6"
  }
 },
 "nbformat": 4,
 "nbformat_minor": 0
}